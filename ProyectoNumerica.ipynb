{
  "nbformat": 4,
  "nbformat_minor": 0,
  "metadata": {
    "colab": {
      "provenance": []
    },
    "kernelspec": {
      "name": "python3",
      "display_name": "Python 3"
    },
    "language_info": {
      "name": "python"
    }
  },
  "cells": [
    {
      "cell_type": "code",
      "execution_count": null,
      "metadata": {
        "colab": {
          "base_uri": "https://localhost:8080/",
          "height": 298
        },
        "id": "1t7j6gVSZV3G",
        "outputId": "95316bc9-819d-4ba2-b9fc-d28566b91494"
      },
      "outputs": [
        {
          "output_type": "stream",
          "name": "stdout",
          "text": [
            "[ 0.11235951 -0.1797753   0.68539352  0.02247191  0.0224719 ]\n"
          ]
        },
        {
          "output_type": "display_data",
          "data": {
            "text/plain": [
              "<Figure size 432x288 with 1 Axes>"
            ],
            "image/png": "[encoded data removed]"
          },
          "metadata": {
            "needs_background": "light"
          }
        }
      ],
      "source": [
        "import numpy as np\n",
        "import matplotlib.pyplot as plt\n",
        "\n",
        "def ssr_gradiente(x,y,yi,var_k):\n",
        "  dw1 = var_k[0] -var_k[3]*yi[0]*x[0] -var_k[4]*yi[1]*y[0]\n",
        "  dw2 = var_k[1] - var_k[3]*yi[0]*x[1] - var_k[4]*yi[1]*y[1]\n",
        "  db = -var_k[3]*yi[0]-var_k[4]*yi[1]\n",
        "  da1 = yi[0]*var_k[0]*x[0]+yi[0]*var_k[1]*x[1]+yi[0]*var_k[2]-1\n",
        "  da2 = yi[1]*var_k[0]*y[0]+yi[1]*var_k[1]*y[1]+yi[1]*var_k[2]-1\n",
        "  return np.array([dw1,dw2,db,da1,da2])\n",
        "\n",
        "def gradient_descent(gradient,x,y,yi,var_inicial,learn_rate, Max_Iteraciones):\n",
        "  var_k = var_inicial\n",
        "  for i in range(Max_Iteraciones):\n",
        "    diff = -learn_rate * ssr_gradiente(x,y,yi,var_k)\n",
        "    var_k2 = var_k + diff\n",
        "    var_k = var_k2\n",
        "  return var_k2\n",
        "\n",
        "x = np.array([1,10])\n",
        "y = np.array([6,2])\n",
        "yi = np.array([-1,1])\n",
        "var_inicial = np.array([1,1,1,1,1]) # w w b a a\n",
        "\n",
        "# Gráfico del Support Vector Machine\n",
        "axis_x = [1,6]\n",
        "axis_y = [10,2]\n",
        "\n",
        "print(gradient_descent(ssr_gradiente,x,y,yi,var_inicial,learn_rate = 0.005,Max_Iteraciones=100000))\n",
        "\n",
        "w1,w2,b,a1,a2 = gradient_descent(ssr_gradiente,x,y,yi,var_inicial,learn_rate = 0.005,Max_Iteraciones=100000)\n",
        "\n",
        "x_values = list(np.linspace(0,10,100))\n",
        "\n",
        "def f(x,w1,w2,b):\n",
        "  return -(x*w1 + b)/w2\n",
        "\n",
        "y_values = []\n",
        "for i in range(len(x_values)):\n",
        "  val = f(x_values[i],w1,w2,b)\n",
        "  y_values.append(val)\n",
        "\n",
        "\n",
        "plt.plot(x_values,y_values)\n",
        "plt.scatter(axis_x,axis_y)\n",
        "plt.title(\"Support Vector Machine\")\n",
        "plt.grid()\n",
        "plt.show()"
      ]
    }
  ]
}